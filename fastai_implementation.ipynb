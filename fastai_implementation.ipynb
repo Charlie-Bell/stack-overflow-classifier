{
  "cells": [
    {
      "cell_type": "code",
      "execution_count": 1,
      "metadata": {
        "colab": {
          "base_uri": "https://localhost:8080/"
        },
        "id": "mr1NevilioO6",
        "outputId": "b7ce36df-7acc-4cbc-eff4-097adec4e025"
      },
      "outputs": [
        {
          "name": "stdout",
          "output_type": "stream",
          "text": [
            "Drive already mounted at /content/drive; to attempt to forcibly remount, call drive.mount(\"/content/drive\", force_remount=True).\n"
          ]
        }
      ],
      "source": [
        "from fastai.text.all import *\n",
        "import pandas as pd\n",
        "\n",
        "### if using google colab ###\n",
        "#from google.colab import drive\n",
        "#drive.mount('/content/drive')"
      ]
    },
    {
      "cell_type": "code",
      "execution_count": 7,
      "metadata": {
        "colab": {
          "base_uri": "https://localhost:8080/",
          "height": 846
        },
        "id": "KWWoTvzVjqgo",
        "outputId": "7b377fa8-4419-4412-885b-b3b577cac024"
      },
      "outputs": [
        {
          "name": "stdout",
          "output_type": "stream",
          "text": [
            "--2023-03-21 17:48:08--  https://drive.google.com/uc?export=download\n",
            "Resolving drive.google.com (drive.google.com)... 74.125.24.100, 74.125.24.139, 74.125.24.101, ...\n",
            "Connecting to drive.google.com (drive.google.com)|74.125.24.100|:443... connected.\n",
            "HTTP request sent, awaiting response... 400 Bad Request\n",
            "2023-03-21 17:48:09 ERROR 400: Bad Request.\n",
            "\n"
          ]
        },
        {
          "data": {
            "text/html": [
              "\n",
              "  <div id=\"df-2c0f5b12-d3dc-4b97-9fff-8431a98ea712\">\n",
              "    <div class=\"colab-df-container\">\n",
              "      <div>\n",
              "<style scoped>\n",
              "    .dataframe tbody tr th:only-of-type {\n",
              "        vertical-align: middle;\n",
              "    }\n",
              "\n",
              "    .dataframe tbody tr th {\n",
              "        vertical-align: top;\n",
              "    }\n",
              "\n",
              "    .dataframe thead th {\n",
              "        text-align: right;\n",
              "    }\n",
              "</style>\n",
              "<table border=\"1\" class=\"dataframe\">\n",
              "  <thead>\n",
              "    <tr style=\"text-align: right;\">\n",
              "      <th></th>\n",
              "      <th>Unnamed: 0</th>\n",
              "      <th>Text</th>\n",
              "      <th>OpenStatus</th>\n",
              "    </tr>\n",
              "  </thead>\n",
              "  <tbody>\n",
              "    <tr>\n",
              "      <th>0</th>\n",
              "      <td>0</td>\n",
              "      <td>For Mongodb is it better to reference an object or use a natural String key? I am building a corpus of indexed sentences in different languages. I have a collection of Languages which have both an ObjectId and the ISO code as a key. Is it better to use a reference to the Language collection or store a key like \"en\" or \"fr\"? I suppose it's a compromise between: - ease of referencing the Language - object in that collection - speed in doing queries where the sentence has a certain language - the size of the data on disk Any best practices that I should know of? mongodb</td>\n",
              "      <td>open</td>\n",
              "    </tr>\n",
              "    <tr>\n",
              "      <th>1</th>\n",
              "      <td>1</td>\n",
              "      <td>How to insert schemalocation in a xml document via DOM i create a xml document with JAXP and search a way to insert the schemalocation. At the moment my application produces: &lt;?xml version=\"1.0\" encoding=\"UTF-8\"?&gt; &lt;root&gt; ... &lt;/root&gt; But i need: &lt;?xml version=\"1.0\" encoding=\"UTF-8\"?&gt; &lt;root xmlns=\"namespaceURL\" xmlns:xs=\"http://www.w3.org/2001/XMLSchema-instance\" xs:schemaLocation=\"namespaceURL pathToMySchema.xsd\"&gt; ... &lt;/root&gt; My code: StreamResult result = new StreamResult(writer); Document doc = getDocument(); Transformer trans = transfac.newTransformer(); trans.setOutputProperty(OutputKey...</td>\n",
              "      <td>open</td>\n",
              "    </tr>\n",
              "    <tr>\n",
              "      <th>2</th>\n",
              "      <td>2</td>\n",
              "      <td>Too many lookup tables What are the adverse effects of having too many lookup tables in the database? I have to incorportate too many Enumerations, based on the applications. What would experts advice? sql-server database-design enums</td>\n",
              "      <td>open</td>\n",
              "    </tr>\n",
              "    <tr>\n",
              "      <th>3</th>\n",
              "      <td>3</td>\n",
              "      <td>What is this PHP code in VB.net I am looking for the vb.net equivalent of this function: I have no experience of PHP but came across this code which apparently gives you a random image url from google images function GetRandomImageURL($topic='', $min=0, $max=100) { // get random image from Google if ($topic=='') $topic='image'; $ofs=mt_rand($min, $max); $geturl='http://www.google.ca/images?q=' . $topic . '&amp;start=' . $ofs . '&amp;gbv=1'; $data=file_get_contents($geturl); $f1='&lt;div id=\"center_col\"&gt;'; $f2='&lt;a href=\"/imgres?imgurl='; $f3='&amp;amp;imgrefurl='; $pos1=strpos($data, $f1)+strlen($f1); if ...</td>\n",
              "      <td>too localized</td>\n",
              "    </tr>\n",
              "    <tr>\n",
              "      <th>4</th>\n",
              "      <td>4</td>\n",
              "      <td>Spring-Data mongodb querying multiple classes stored in the same collection With Spring-Data, you can use the @Document annotation to specify which collection to save the object to. Say i have two classes, Student and Teacher, both persisted into the people collection. When I execute the following code: mongo.find(new Query(), Teacher.class); result contains both Student and Teacher. Looking in the data created by Spring-Data, each document contains a \"_class\" field which indicate which class it is persisted from. This is field not used in find as an filter to return only Teacher? How do I...</td>\n",
              "      <td>open</td>\n",
              "    </tr>\n",
              "  </tbody>\n",
              "</table>\n",
              "</div>\n",
              "      <button class=\"colab-df-convert\" onclick=\"convertToInteractive('df-2c0f5b12-d3dc-4b97-9fff-8431a98ea712')\"\n",
              "              title=\"Convert this dataframe to an interactive table.\"\n",
              "              style=\"display:none;\">\n",
              "        \n",
              "  <svg xmlns=\"http://www.w3.org/2000/svg\" height=\"24px\"viewBox=\"0 0 24 24\"\n",
              "       width=\"24px\">\n",
              "    <path d=\"M0 0h24v24H0V0z\" fill=\"none\"/>\n",
              "    <path d=\"M18.56 5.44l.94 2.06.94-2.06 2.06-.94-2.06-.94-.94-2.06-.94 2.06-2.06.94zm-11 1L8.5 8.5l.94-2.06 2.06-.94-2.06-.94L8.5 2.5l-.94 2.06-2.06.94zm10 10l.94 2.06.94-2.06 2.06-.94-2.06-.94-.94-2.06-.94 2.06-2.06.94z\"/><path d=\"M17.41 7.96l-1.37-1.37c-.4-.4-.92-.59-1.43-.59-.52 0-1.04.2-1.43.59L10.3 9.45l-7.72 7.72c-.78.78-.78 2.05 0 2.83L4 21.41c.39.39.9.59 1.41.59.51 0 1.02-.2 1.41-.59l7.78-7.78 2.81-2.81c.8-.78.8-2.07 0-2.86zM5.41 20L4 18.59l7.72-7.72 1.47 1.35L5.41 20z\"/>\n",
              "  </svg>\n",
              "      </button>\n",
              "      \n",
              "  <style>\n",
              "    .colab-df-container {\n",
              "      display:flex;\n",
              "      flex-wrap:wrap;\n",
              "      gap: 12px;\n",
              "    }\n",
              "\n",
              "    .colab-df-convert {\n",
              "      background-color: #E8F0FE;\n",
              "      border: none;\n",
              "      border-radius: 50%;\n",
              "      cursor: pointer;\n",
              "      display: none;\n",
              "      fill: #1967D2;\n",
              "      height: 32px;\n",
              "      padding: 0 0 0 0;\n",
              "      width: 32px;\n",
              "    }\n",
              "\n",
              "    .colab-df-convert:hover {\n",
              "      background-color: #E2EBFA;\n",
              "      box-shadow: 0px 1px 2px rgba(60, 64, 67, 0.3), 0px 1px 3px 1px rgba(60, 64, 67, 0.15);\n",
              "      fill: #174EA6;\n",
              "    }\n",
              "\n",
              "    [theme=dark] .colab-df-convert {\n",
              "      background-color: #3B4455;\n",
              "      fill: #D2E3FC;\n",
              "    }\n",
              "\n",
              "    [theme=dark] .colab-df-convert:hover {\n",
              "      background-color: #434B5C;\n",
              "      box-shadow: 0px 1px 3px 1px rgba(0, 0, 0, 0.15);\n",
              "      filter: drop-shadow(0px 1px 2px rgba(0, 0, 0, 0.3));\n",
              "      fill: #FFFFFF;\n",
              "    }\n",
              "  </style>\n",
              "\n",
              "      <script>\n",
              "        const buttonEl =\n",
              "          document.querySelector('#df-2c0f5b12-d3dc-4b97-9fff-8431a98ea712 button.colab-df-convert');\n",
              "        buttonEl.style.display =\n",
              "          google.colab.kernel.accessAllowed ? 'block' : 'none';\n",
              "\n",
              "        async function convertToInteractive(key) {\n",
              "          const element = document.querySelector('#df-2c0f5b12-d3dc-4b97-9fff-8431a98ea712');\n",
              "          const dataTable =\n",
              "            await google.colab.kernel.invokeFunction('convertToInteractive',\n",
              "                                                     [key], {});\n",
              "          if (!dataTable) return;\n",
              "\n",
              "          const docLinkHtml = 'Like what you see? Visit the ' +\n",
              "            '<a target=\"_blank\" href=https://colab.research.google.com/notebooks/data_table.ipynb>data table notebook</a>'\n",
              "            + ' to learn more about interactive tables.';\n",
              "          element.innerHTML = '';\n",
              "          dataTable['output_type'] = 'display_data';\n",
              "          await google.colab.output.renderOutput(dataTable, element);\n",
              "          const docLink = document.createElement('div');\n",
              "          docLink.innerHTML = docLinkHtml;\n",
              "          element.appendChild(docLink);\n",
              "        }\n",
              "      </script>\n",
              "    </div>\n",
              "  </div>\n",
              "  "
            ],
            "text/plain": [
              "   Unnamed: 0  \\\n",
              "0           0   \n",
              "1           1   \n",
              "2           2   \n",
              "3           3   \n",
              "4           4   \n",
              "\n",
              "                                                                                                                                                                                                                                                                                                                                                                                                                                                                                                                                                                                                                      Text  \\\n",
              "0                        For Mongodb is it better to reference an object or use a natural String key? I am building a corpus of indexed sentences in different languages. I have a collection of Languages which have both an ObjectId and the ISO code as a key. Is it better to use a reference to the Language collection or store a key like \"en\" or \"fr\"? I suppose it's a compromise between: - ease of referencing the Language - object in that collection - speed in doing queries where the sentence has a certain language - the size of the data on disk Any best practices that I should know of? mongodb       \n",
              "1  How to insert schemalocation in a xml document via DOM i create a xml document with JAXP and search a way to insert the schemalocation. At the moment my application produces: <?xml version=\"1.0\" encoding=\"UTF-8\"?> <root> ... </root> But i need: <?xml version=\"1.0\" encoding=\"UTF-8\"?> <root xmlns=\"namespaceURL\" xmlns:xs=\"http://www.w3.org/2001/XMLSchema-instance\" xs:schemaLocation=\"namespaceURL pathToMySchema.xsd\"> ... </root> My code: StreamResult result = new StreamResult(writer); Document doc = getDocument(); Transformer trans = transfac.newTransformer(); trans.setOutputProperty(OutputKey...   \n",
              "2                                                                                                                                                                                                                                                                                                                                                                             Too many lookup tables What are the adverse effects of having too many lookup tables in the database? I have to incorportate too many Enumerations, based on the applications. What would experts advice? sql-server database-design enums     \n",
              "3  What is this PHP code in VB.net I am looking for the vb.net equivalent of this function: I have no experience of PHP but came across this code which apparently gives you a random image url from google images function GetRandomImageURL($topic='', $min=0, $max=100) { // get random image from Google if ($topic=='') $topic='image'; $ofs=mt_rand($min, $max); $geturl='http://www.google.ca/images?q=' . $topic . '&start=' . $ofs . '&gbv=1'; $data=file_get_contents($geturl); $f1='<div id=\"center_col\">'; $f2='<a href=\"/imgres?imgurl='; $f3='&amp;imgrefurl='; $pos1=strpos($data, $f1)+strlen($f1); if ...   \n",
              "4  Spring-Data mongodb querying multiple classes stored in the same collection With Spring-Data, you can use the @Document annotation to specify which collection to save the object to. Say i have two classes, Student and Teacher, both persisted into the people collection. When I execute the following code: mongo.find(new Query(), Teacher.class); result contains both Student and Teacher. Looking in the data created by Spring-Data, each document contains a \"_class\" field which indicate which class it is persisted from. This is field not used in find as an filter to return only Teacher? How do I...   \n",
              "\n",
              "      OpenStatus  \n",
              "0           open  \n",
              "1           open  \n",
              "2           open  \n",
              "3  too localized  \n",
              "4           open  "
            ]
          },
          "execution_count": 7,
          "metadata": {},
          "output_type": "execute_result"
        }
      ],
      "source": [
        "!wget https://drive.google.com/uc?export=download&id=18rSp1jWkoTJsaOG6BUrSDi9AFnJNtUfl\n",
        "df = pd.read_csv('df_preprocessed.csv', quoting=csv.QUOTE_ALL, encoding='utf-8')\n",
        "df.head()"
      ]
    },
    {
      "cell_type": "code",
      "execution_count": 19,
      "metadata": {
        "colab": {
          "base_uri": "https://localhost:8080/",
          "height": 17
        },
        "id": "YUqZZbVgla3f",
        "outputId": "7b7b0f3c-bb77-4995-e596-8b03cea1c6a6"
      },
      "outputs": [
        {
          "data": {
            "text/html": [
              "\n",
              "<style>\n",
              "    /* Turns off some styling */\n",
              "    progress {\n",
              "        /* gets rid of default border in Firefox and Opera. */\n",
              "        border: none;\n",
              "        /* Needs to be in here for Safari polyfill so background images work as expected. */\n",
              "        background-size: auto;\n",
              "    }\n",
              "    progress:not([value]), progress:not([value])::-webkit-progress-bar {\n",
              "        background: repeating-linear-gradient(45deg, #7e7e7e, #7e7e7e 10px, #5c5c5c 10px, #5c5c5c 20px);\n",
              "    }\n",
              "    .progress-bar-interrupted, .progress-bar-interrupted::-webkit-progress-bar {\n",
              "        background: #F44336;\n",
              "    }\n",
              "</style>\n"
            ],
            "text/plain": [
              "<IPython.core.display.HTML object>"
            ]
          },
          "metadata": {},
          "output_type": "display_data"
        },
        {
          "data": {
            "text/html": [],
            "text/plain": [
              "<IPython.core.display.HTML object>"
            ]
          },
          "metadata": {},
          "output_type": "display_data"
        }
      ],
      "source": [
        "dls = TextDataLoaders.from_df(df, text_col='Text', label_col='OpenStatus', valid_pct=0.1)"
      ]
    },
    {
      "cell_type": "code",
      "execution_count": 20,
      "metadata": {
        "colab": {
          "base_uri": "https://localhost:8080/",
          "height": 1000
        },
        "id": "nuMCXxAAlqiv",
        "outputId": "6e3fbc13-4310-4de8-eaae-723fedcf5898"
      },
      "outputs": [
        {
          "data": {
            "text/html": [
              "<table border=\"1\" class=\"dataframe\">\n",
              "  <thead>\n",
              "    <tr style=\"text-align: right;\">\n",
              "      <th></th>\n",
              "      <th>text</th>\n",
              "      <th>category</th>\n",
              "    </tr>\n",
              "  </thead>\n",
              "  <tbody>\n",
              "    <tr>\n",
              "      <th>0</th>\n",
              "      <td>xxbos xxmaj fix xxmaj memory xxmaj leak xxmaj crash xxmaj log [ link to xxmaj xxunk xxmaj post][1 ] [ 1 ] : http : / / stackoverflow.com / questions / xxunk / help - fix - memory - leak - release t h r e a d 3 c r a s h e d : 0 l i b o b j c . a . d y l i b 0 x 3 3 a 0 6 4 6 6 0 x 3 3 a 0 3 xxwrep 3 0 + 1 3 4 1 4 1 a v f o u n d a t i o n 0 x 3 1 a e 7 4 1 e 0 x 3 1 a b 8 xxwrep 3 0 + 1 9 3 5 6 6 2 l i b s y s t e m .</td>\n",
              "      <td>not a real question</td>\n",
              "    </tr>\n",
              "    <tr>\n",
              "      <th>1</th>\n",
              "      <td>xxbos xxmaj firefox on a xxmaj mac crashes when i try to use xxup html table to xxmaj excel export tool i have search a lot to find a xxup html to xxmaj excel js export . xxmaj and i have found one that i like and works pretty well except on a xxup mac . xxmaj it crashes if i try to use it in xxmaj firefox . xxmaj in xxmaj safari is okey . xxmaj this is the code : &lt; ! doctype xxup html xxup public \" - / / xxup w3c / / xxup dtd xxup html 4.01 / / xxup en \" \" http : / / xxrep 3 w .w3.org / xxup tr / html4 / strict.dtd \" &gt; &lt; html lang=\"en \" &gt; &lt; head &gt; &lt; title &gt; html to xxmaj excel export &lt; / title &gt; &lt; script type=\"text / javascript</td>\n",
              "      <td>off topic</td>\n",
              "    </tr>\n",
              "    <tr>\n",
              "      <th>2</th>\n",
              "      <td>xxbos php login script for my custom php site xxmaj please help me with an application i m building . i m new to php and i m hoping that learning through experience is the best way to do it . xxmaj here is my situation … .. i have a mysql database which hae \" members \" table with my username &amp; xxunk , this seems to be connecting with no xxunk . in addition i have the following pages and xxunk running on them : xxrep 90 _ index.php - where my form is &lt; ! doctype html xxup public \" - / / xxup w3c / / xxup dtd xxup xhtml 1.0 xxmaj transitional / / xxup en \" \" http : / / xxrep 3 w .w3.org / xxup tr / xhtml1 / xxup dtd / xhtml1-transitional.dtd \" &gt; &lt; html xmlns=\"http : / / xxrep</td>\n",
              "      <td>not constructive</td>\n",
              "    </tr>\n",
              "    <tr>\n",
              "      <th>3</th>\n",
              "      <td>xxbos xxmaj could someone explain these code snippets ? xxmaj in the following code , could someone explain to me how the following works ? / * * xxunk * * xxmaj sniffer example of xxup tcp / xxup ip packet capture using libpcap . * * xxmaj version xxunk ( 2005 - 07 - 05 ) * xxmaj copyright ( c ) 2005 xxmaj the xxmaj tcpdump xxmaj group * * xxmaj this software is intended to be used as a practical example and * demonstration of the libpcap library ; available at : * http : / / xxrep 3 w xxunk / * xxrep 76 * * * xxmaj this software is a modification of xxmaj tim xxmaj xxunk ' \" xxunk \" * demonstration source code , released as follows : * * xxunk * xxmaj copyright ( c ) 2002 xxmaj tim xxmaj xxunk *</td>\n",
              "      <td>not constructive</td>\n",
              "    </tr>\n",
              "    <tr>\n",
              "      <th>4</th>\n",
              "      <td>xxbos error in wordpress syntax error , unexpected xxup t_string in / xxrep 3 * / xxunk on line 1 i am upload my website and i see this error : syntax error , unexpected xxup t_string in / xxrep 3 * / xxunk on line 1 xxmaj what must i do ? is there anybody to help me ? plz and the xxunk cod is here &lt; ? php / * xxrep 83 - * / / * xxmaj post xxmaj thumbnail xxmaj support / * xxrep 83 - * / xxunk - xxunk ( xxunk - xxunk ( xxunk ' ) ) { xxunk ' , 472 , 280 , xxunk ' , 193 , 138 , true ) ; } / / xxmaj load languages xxunk ' , xxunk ( ) . ' / xxunk = xxunk = xxup xxunk . \" / languages / $ xxunk</td>\n",
              "      <td>too localized</td>\n",
              "    </tr>\n",
              "    <tr>\n",
              "      <th>5</th>\n",
              "      <td>xxbos xxmaj oracle query performance issue i have a table discussion of which structure is following : xxmaj table name : discussion , xxmaj i d name parent_id root_id … other columns 1 xxunk 0 0 2 xxunk 1 1 3 xxunk 2 1 4 xxunk 3 1 5 xxunk 4 1 i d was defined as xxup pk , parent_id and root_id has been indexed . these rows of table was built as a hierarchical xxunk of xxunk ) , please note i have a column root_id which is used to describe which rows are in the same tree . i written two sql to get the tree : * * sql 1 * * xxup select * from reply start with ( parent_id=0 xxup and id= ? ) connect by prior id = parent_id * * sql 2 * * xxup select * xxup from ( xxup select</td>\n",
              "      <td>open</td>\n",
              "    </tr>\n",
              "    <tr>\n",
              "      <th>6</th>\n",
              "      <td>xxbos xxup sql xxmaj server 2012 installation failure xxmaj an error occurred for a dependency of the feature causing the setup process for the feature to fail i am installing xxup sql xxmaj server 2012 xxmaj developer ( from xxup iso image written on xxup dvd ) , my machine has xxmaj windows 7 and it already has xxup sql xxmaj express and xxup sql 2008 xxup r2 xxmaj express installed in it . xxmaj on running 2012 setup it goes fine from xxmaj setup xxmaj support xxmaj rules to xxmaj installation xxmaj progress . xxmaj in xxmaj installation xxmaj progress after some progress installation fails . * * windows show the following components could n't installed :* * xxmaj managment xxmaj tools xxmaj complete xxmaj failed . xxmaj client xxmaj tools xxmaj connectivity xxmaj failed . xxmaj client xxmaj tools xxup sdk xxmaj failed . xxmaj client xxmaj tools</td>\n",
              "      <td>off topic</td>\n",
              "    </tr>\n",
              "    <tr>\n",
              "      <th>7</th>\n",
              "      <td>xxbos xxmaj i 'm having trouble parsing a facebook feed using simplexml &lt; http : / / xxrep 3 w .facebook.com / feeds / xxunk &gt; xxmaj the link above is the xxup url to my shared posts on xxmaj facebook . xxmaj when i load that xxup url in to simplexml_load_file ( ) it provides an entire page of errors . xxmaj looking at the errors , it looks like xxmaj facebook is spitting out xxup html instead of the feed . i thought this was an authentication issue but i logged out of facebook and loaded the feed url in to my browser and i was able to see the feed . xxmaj here are the errors xxmaj i 'm getting . xxmaj any ideas ? xxmaj thanks ! a xxup php xxmaj error was encountered xxmaj severity : xxmaj warning xxmaj message : simplexml_load_file ( ) [</td>\n",
              "      <td>too localized</td>\n",
              "    </tr>\n",
              "    <tr>\n",
              "      <th>8</th>\n",
              "      <td>xxbos xxmaj word xxmaj count program in xxup c ? i need a bit of guidance with writing a c program … a bit of quick background as to my level , xxmaj i 've programmed in xxmaj java previously , but this is my first time programming in xxup c , and we 've been tasked to translate a word count program from xxmaj java to c that consists of the following : 1 . xxmaj read a file from memory 2 . xxmaj count the words in the file 3 . xxmaj for each occurrence of a unique word , keep a word counter variable 4 . xxmaj print out the top ten most frequent words and their corresponding occurrences xxmaj here 's the source program in xxmaj java : package xxunk ; import java.io.file ; import java.io.filereader ; import java.util.arraylist ; import java.util.calendar ; import java.util.collections ;</td>\n",
              "      <td>too localized</td>\n",
              "    </tr>\n",
              "  </tbody>\n",
              "</table>"
            ],
            "text/plain": [
              "<IPython.core.display.HTML object>"
            ]
          },
          "metadata": {},
          "output_type": "display_data"
        }
      ],
      "source": [
        "dls.show_batch()"
      ]
    },
    {
      "cell_type": "code",
      "execution_count": 21,
      "metadata": {
        "colab": {
          "base_uri": "https://localhost:8080/",
          "height": 37
        },
        "id": "SRey4CoVmfUP",
        "outputId": "199b0a3a-d933-4002-c9ab-03f5878ff512"
      },
      "outputs": [
        {
          "data": {
            "text/html": [
              "\n",
              "<style>\n",
              "    /* Turns off some styling */\n",
              "    progress {\n",
              "        /* gets rid of default border in Firefox and Opera. */\n",
              "        border: none;\n",
              "        /* Needs to be in here for Safari polyfill so background images work as expected. */\n",
              "        background-size: auto;\n",
              "    }\n",
              "    progress:not([value]), progress:not([value])::-webkit-progress-bar {\n",
              "        background: repeating-linear-gradient(45deg, #7e7e7e, #7e7e7e 10px, #5c5c5c 10px, #5c5c5c 20px);\n",
              "    }\n",
              "    .progress-bar-interrupted, .progress-bar-interrupted::-webkit-progress-bar {\n",
              "        background: #F44336;\n",
              "    }\n",
              "</style>\n"
            ],
            "text/plain": [
              "<IPython.core.display.HTML object>"
            ]
          },
          "metadata": {},
          "output_type": "display_data"
        },
        {
          "data": {
            "text/html": [
              "\n",
              "    <div>\n",
              "      <progress value='105070592' class='' max='105067061' style='width:300px; height:20px; vertical-align: middle;'></progress>\n",
              "      100.00% [105070592/105067061 00:09&lt;00:00]\n",
              "    </div>\n",
              "    "
            ],
            "text/plain": [
              "<IPython.core.display.HTML object>"
            ]
          },
          "metadata": {},
          "output_type": "display_data"
        }
      ],
      "source": [
        "learn = text_classifier_learner(dls, AWD_LSTM, drop_mult=0.5, metrics=accuracy)"
      ]
    },
    {
      "cell_type": "code",
      "execution_count": 22,
      "metadata": {
        "colab": {
          "base_uri": "https://localhost:8080/",
          "height": 238
        },
        "id": "salnaMLXmp7Y",
        "outputId": "a4d2e85a-b83f-4c50-a02d-2b3cf8559465"
      },
      "outputs": [
        {
          "data": {
            "text/html": [
              "\n",
              "<style>\n",
              "    /* Turns off some styling */\n",
              "    progress {\n",
              "        /* gets rid of default border in Firefox and Opera. */\n",
              "        border: none;\n",
              "        /* Needs to be in here for Safari polyfill so background images work as expected. */\n",
              "        background-size: auto;\n",
              "    }\n",
              "    progress:not([value]), progress:not([value])::-webkit-progress-bar {\n",
              "        background: repeating-linear-gradient(45deg, #7e7e7e, #7e7e7e 10px, #5c5c5c 10px, #5c5c5c 20px);\n",
              "    }\n",
              "    .progress-bar-interrupted, .progress-bar-interrupted::-webkit-progress-bar {\n",
              "        background: #F44336;\n",
              "    }\n",
              "</style>\n"
            ],
            "text/plain": [
              "<IPython.core.display.HTML object>"
            ]
          },
          "metadata": {},
          "output_type": "display_data"
        },
        {
          "data": {
            "text/html": [
              "<table border=\"1\" class=\"dataframe\">\n",
              "  <thead>\n",
              "    <tr style=\"text-align: left;\">\n",
              "      <th>epoch</th>\n",
              "      <th>train_loss</th>\n",
              "      <th>valid_loss</th>\n",
              "      <th>accuracy</th>\n",
              "      <th>time</th>\n",
              "    </tr>\n",
              "  </thead>\n",
              "  <tbody>\n",
              "    <tr>\n",
              "      <td>0</td>\n",
              "      <td>1.129363</td>\n",
              "      <td>1.032778</td>\n",
              "      <td>0.605261</td>\n",
              "      <td>07:18</td>\n",
              "    </tr>\n",
              "  </tbody>\n",
              "</table>"
            ],
            "text/plain": [
              "<IPython.core.display.HTML object>"
            ]
          },
          "metadata": {},
          "output_type": "display_data"
        },
        {
          "data": {
            "text/html": [
              "\n",
              "<style>\n",
              "    /* Turns off some styling */\n",
              "    progress {\n",
              "        /* gets rid of default border in Firefox and Opera. */\n",
              "        border: none;\n",
              "        /* Needs to be in here for Safari polyfill so background images work as expected. */\n",
              "        background-size: auto;\n",
              "    }\n",
              "    progress:not([value]), progress:not([value])::-webkit-progress-bar {\n",
              "        background: repeating-linear-gradient(45deg, #7e7e7e, #7e7e7e 10px, #5c5c5c 10px, #5c5c5c 20px);\n",
              "    }\n",
              "    .progress-bar-interrupted, .progress-bar-interrupted::-webkit-progress-bar {\n",
              "        background: #F44336;\n",
              "    }\n",
              "</style>\n"
            ],
            "text/plain": [
              "<IPython.core.display.HTML object>"
            ]
          },
          "metadata": {},
          "output_type": "display_data"
        },
        {
          "data": {
            "text/html": [
              "<table border=\"1\" class=\"dataframe\">\n",
              "  <thead>\n",
              "    <tr style=\"text-align: left;\">\n",
              "      <th>epoch</th>\n",
              "      <th>train_loss</th>\n",
              "      <th>valid_loss</th>\n",
              "      <th>accuracy</th>\n",
              "      <th>time</th>\n",
              "    </tr>\n",
              "  </thead>\n",
              "  <tbody>\n",
              "    <tr>\n",
              "      <td>0</td>\n",
              "      <td>0.981550</td>\n",
              "      <td>0.932113</td>\n",
              "      <td>0.643473</td>\n",
              "      <td>17:22</td>\n",
              "    </tr>\n",
              "    <tr>\n",
              "      <td>1</td>\n",
              "      <td>0.897849</td>\n",
              "      <td>0.865420</td>\n",
              "      <td>0.672346</td>\n",
              "      <td>17:20</td>\n",
              "    </tr>\n",
              "    <tr>\n",
              "      <td>2</td>\n",
              "      <td>0.839689</td>\n",
              "      <td>0.837319</td>\n",
              "      <td>0.688030</td>\n",
              "      <td>17:21</td>\n",
              "    </tr>\n",
              "    <tr>\n",
              "      <td>3</td>\n",
              "      <td>0.814117</td>\n",
              "      <td>0.837897</td>\n",
              "      <td>0.689242</td>\n",
              "      <td>17:22</td>\n",
              "    </tr>\n",
              "  </tbody>\n",
              "</table>"
            ],
            "text/plain": [
              "<IPython.core.display.HTML object>"
            ]
          },
          "metadata": {},
          "output_type": "display_data"
        }
      ],
      "source": [
        "epochs, lr = 4, 1e-2\n",
        "learn.fine_tune(epochs, lr)"
      ]
    },
    {
      "cell_type": "code",
      "execution_count": 23,
      "metadata": {
        "colab": {
          "base_uri": "https://localhost:8080/",
          "height": 1000
        },
        "id": "r8585DgCmwUa",
        "outputId": "bc423554-ebbc-44c6-8b92-5d002c3a7b78"
      },
      "outputs": [
        {
          "data": {
            "text/html": [
              "\n",
              "<style>\n",
              "    /* Turns off some styling */\n",
              "    progress {\n",
              "        /* gets rid of default border in Firefox and Opera. */\n",
              "        border: none;\n",
              "        /* Needs to be in here for Safari polyfill so background images work as expected. */\n",
              "        background-size: auto;\n",
              "    }\n",
              "    progress:not([value]), progress:not([value])::-webkit-progress-bar {\n",
              "        background: repeating-linear-gradient(45deg, #7e7e7e, #7e7e7e 10px, #5c5c5c 10px, #5c5c5c 20px);\n",
              "    }\n",
              "    .progress-bar-interrupted, .progress-bar-interrupted::-webkit-progress-bar {\n",
              "        background: #F44336;\n",
              "    }\n",
              "</style>\n"
            ],
            "text/plain": [
              "<IPython.core.display.HTML object>"
            ]
          },
          "metadata": {},
          "output_type": "display_data"
        },
        {
          "data": {
            "text/html": [],
            "text/plain": [
              "<IPython.core.display.HTML object>"
            ]
          },
          "metadata": {},
          "output_type": "display_data"
        },
        {
          "data": {
            "text/html": [
              "<table border=\"1\" class=\"dataframe\">\n",
              "  <thead>\n",
              "    <tr style=\"text-align: right;\">\n",
              "      <th></th>\n",
              "      <th>text</th>\n",
              "      <th>category</th>\n",
              "      <th>category_</th>\n",
              "    </tr>\n",
              "  </thead>\n",
              "  <tbody>\n",
              "    <tr>\n",
              "      <th>0</th>\n",
              "      <td>xxbos xxmaj post xxmaj creator 2.3 xxmaj plugin xxmaj not xxmaj working xxmaj properly xxmaj in xxmaj word xxmaj press ? xxmaj hi i am working in word press plugin , that plugin name is post creator 2.3 , using this we have to post several post at a time .. the problem is its posting only 150 posts instead of 1 xxrep 3 0 posts .. also i referred lot of things , i do n't know to solve .. ! [ enter image description here][2 ] ! [ enter image description here][3 ] [ 2 ] : http : / / i.stack.imgur.com / xxunk [ 3 ] : http : / / i.stack.imgur.com / xxunk i am new to word press , i do n't know how to solve this problem , anybody help to solve this problem . &lt; ? php function xxunk ( ) { xxunk</td>\n",
              "      <td>not a real question</td>\n",
              "      <td>not a real question</td>\n",
              "    </tr>\n",
              "    <tr>\n",
              "      <th>1</th>\n",
              "      <td>xxbos xxmaj slow broker response time in activemq 5.6 xxmaj we have a setup where user generates report using xxup soap over activemq with xxmaj jboss 5.1.0 as the xxup as . xxmaj our project is migrating from activemq 4 to activemq 5.6 and we have noticed with the default configuration , the time of generation of one of the reports has increased by 50 secs . xxmaj this particular report consists of the maximum amount of data among all others , and the other reports are all showing response times close to our earlier setup . xxmaj so we are suspecting it has to do with some setting wherein the message queue is not able to handle larger data . xxmaj we have checked and the time from database to return the query result is identical , and this extra 50 sec is coming in activemq . xxmaj here</td>\n",
              "      <td>not a real question</td>\n",
              "      <td>open</td>\n",
              "    </tr>\n",
              "    <tr>\n",
              "      <th>2</th>\n",
              "      <td>xxbos paypal xxmaj subscription xxup ipn - xxup php i created the following paypal xxup ipn page to handle transactions . xxmaj this is my first time . xxmaj for some reason every transaction triggers the very last part : else if ( strcmp ( $ res , \" invalid \" ) = = 0 ) i ca n't figure out what is wrong . i am testing it in the sandbox to no avail . xxmaj can some one help me please ? &lt; ? php / / xxrep 60 - / / xxup paypal xxup posted xxup values xxup explanation / / https : / / xxunk / us / cgi - bin / ? xxunk - xxunk = developer / xxunk / / xxrep 60 - / / xxunk - xxmaj subscription end of term . a transaction type ( txn_type ) value . / / -</td>\n",
              "      <td>too localized</td>\n",
              "      <td>not a real question</td>\n",
              "    </tr>\n",
              "    <tr>\n",
              "      <th>3</th>\n",
              "      <td>xxbos xxup gui xxmaj xxunk inconsistency / some valid moves work and others do not java i made a xxunk program that is a 2d array of buttons the valid moves are then enabled true and you can make a move ; some moves go xxunk while others just kind of sit there no matter how long you wait . i debugged and the methods are doing what they are supposed to but it does nt move . can anyone spot a problem i can not . import java.awt . * ; import java.awt.event . * ; import javax.swing . * ; public class xxunk extends japplet { private int score1 ; private int score2 ; private int turn ; private xxmaj icon p1 = new imageicon(\"images / xxunk \" ) ; private xxmaj icon p2 = new imageicon(\"images / xxunk \" ) ; private xxmaj icon xxunk = new</td>\n",
              "      <td>not a real question</td>\n",
              "      <td>not a real question</td>\n",
              "    </tr>\n",
              "    <tr>\n",
              "      <th>4</th>\n",
              "      <td>xxbos detailsview loses datasource after callback with use icallbackeventhandler i am trying make in my asp.net application modifications without xxmaj postback and without updatepanel . xxmaj for paging and for modifying i want use only callbacks on the my site . xxmaj for it i use an interface \" icallbackeventhandler \" . xxmaj this simple application has \" xxunk \" &amp; \" xxunk \" . xxmaj both with installed property xxunk \" . xxmaj but i have problem . i try save my detailsview with use javascript : xxunk xxup key ' ) xxmaj but my detailsview on server - side &amp; client - htmlcode always * * empty * * ! xxmaj why ? xxmaj how i can transfer my edit of values from detailsview on server - side after user click the button \" save \" ? &lt; % @ xxmaj page title=\"home xxmaj page \" xxmaj language=\"vb</td>\n",
              "      <td>open</td>\n",
              "      <td>open</td>\n",
              "    </tr>\n",
              "    <tr>\n",
              "      <th>5</th>\n",
              "      <td>xxbos xxmaj how to generate unique numbers frm an array , dat too randomly i am doing a project in xxunk are two xml database xxmaj full &amp; xxunk full dere r 350 question &amp; in xxmaj lite dere r 20 xxunk a user takes xxmaj full xxunk questions are displayed at a time randomly , &amp; for xxmaj lite its xxunk i want to exhaust the database b4 any question gets xxunk mean for xxmaj full xxunk , a person after appearing for 7 xxunk question per test , total question xxunk find d repeated question , &amp; for xxmaj lite version its after taking 2 xxunk question per xxunk question xxunk want the question to b generated randomly , as well as being unqiue , &amp; i want to store it in memory , so dat if a person exit after one test , &amp; den return after</td>\n",
              "      <td>too localized</td>\n",
              "      <td>not a real question</td>\n",
              "    </tr>\n",
              "    <tr>\n",
              "      <th>6</th>\n",
              "      <td>xxbos xxmaj need advice regarding xxmaj style and xxmaj flow in xxup c++ ( simple xxunk program ) i come here xxunk asking for advice from those with more experience than xxup i. i believe this is a novice question but i hope it is useful to others . xxmaj i 'm a few months into learning xxup c++ programming and i want to know if xxmaj i 'm moving generally in the right direction or not with the following code . xxmaj this is the most advanced thing xxmaj i 've created so far , but it does n't contain any pointers or references so xxmaj i 'm worried xxmaj i 'm not doing things properly on the memory level . i appreciate the time of anyone who posts . i especially want advice regarding moving this type of code to templates and virtual functions . xxmaj thanks in</td>\n",
              "      <td>not constructive</td>\n",
              "      <td>open</td>\n",
              "    </tr>\n",
              "    <tr>\n",
              "      <th>7</th>\n",
              "      <td>xxbos xxmaj can anyone improve my application written in xxmaj java ? xxmaj i 'm least happy with case 5 as it comprises too much code and allows duplicates . i heard about xxmaj sets but can see how it would work in this example xxmaj here 's my complete source code : public class myapplication { public static void main(string [ ] args ) { xxmaj control control = new xxmaj control ( ) ; xxunk ( ) ; } } xxmaj driver / xxmaj control xxmaj class import java.util.scanner ; public class xxmaj control { / / xxmaj integers represented as module codes private static final int xxup ufce1 = 0 ; private static final int xxup ufce2 = 1 ; private static final int xxup ufce3 = 2 ; private static final int xxup ufce4 = 3 ; private static final int xxup ufce5 = 4 ;</td>\n",
              "      <td>off topic</td>\n",
              "      <td>not a real question</td>\n",
              "    </tr>\n",
              "    <tr>\n",
              "      <th>8</th>\n",
              "      <td>xxbos breaking down code into smaller xxunk and reduce repetition ( classes ) xxmaj hi i wonder if anyone can help me regarding designing classes and objects for this kind of project . i am creating a simple affiliate website which displays products on a page . xxmaj the data is passed to me though an xxup xml document . xxmaj then the data is filtered and added to the database ready to populate the website . xxmaj there are 3 sets of data which is stored . xxmaj products , brands and categories .. xxmaj these are my tables in the database . i also have 3 classes , products , brands and categories . xxmaj these filter the data , store the data , delete . xxmaj there are also general classes that are shared between all 3 but these act more like static functions .. xxmaj for</td>\n",
              "      <td>off topic</td>\n",
              "      <td>not a real question</td>\n",
              "    </tr>\n",
              "  </tbody>\n",
              "</table>"
            ],
            "text/plain": [
              "<IPython.core.display.HTML object>"
            ]
          },
          "metadata": {},
          "output_type": "display_data"
        },
        {
          "data": {
            "text/plain": [
              "Path('models/high_level_API.pth')"
            ]
          },
          "execution_count": 23,
          "metadata": {},
          "output_type": "execute_result"
        }
      ],
      "source": [
        "learn.show_results()\n",
        "learn.save('high_level_API')"
      ]
    },
    {
      "cell_type": "markdown",
      "metadata": {
        "id": "_-tdkyVjomhu"
      },
      "source": [
        "### What's underneath the high level API"
      ]
    },
    {
      "cell_type": "markdown",
      "metadata": {
        "id": "Dnme2BB1tGkg"
      },
      "source": [
        "#### Training the Language Model"
      ]
    },
    {
      "cell_type": "code",
      "execution_count": null,
      "metadata": {
        "id": "GZnQuja8nSqF"
      },
      "outputs": [],
      "source": [
        "## First we train a Language Model on the corpus\n",
        "dls_lm = TextDataLoaders.from_df(df, is_lm=True, valid_pct=0.1)\n",
        "wd = 0.1 # weight decay\n",
        "learn = language_model_learner(dls_lm, AWD_LSTM, metrics=[accuracy, Perplexity()], wd=wd).to_fp16()\n",
        "epochs, lr = 1, 1e-2\n",
        "learn.fit_one_cycle(epochs, lr) # Trained on 1 cycle annealing\n",
        "learn.save('1epoch')\n",
        "learn = learn.load('1epoch')\n",
        "learn.unfreeze() # unfreezing allows the body to be trained, freezing only allows the head to be trained\n",
        "epochs, lr = 10, 1e-3\n",
        "learn.fit_one_cycle(epochs, lr)\n",
        "learn.save_encoder('finetuned') # finetuned on the unfrozen body, only the encoder part is saved.\n",
        "learn.path = Path('./drive/MyDrive')\n",
        "learn.save('finetuned')"
      ]
    },
    {
      "cell_type": "markdown",
      "metadata": {
        "id": "XiZXGPq5tEF8"
      },
      "source": [
        "#### Training the Text Classifier\n"
      ]
    },
    {
      "cell_type": "code",
      "execution_count": null,
      "metadata": {
        "id": "oHOdSmKbtP45"
      },
      "outputs": [],
      "source": [
        "dls_clas = TextDataLoaders.from_df(df, valid_pct=0.1, text_vocab=dls_lm.vocab) # same vocab as dls_lm\n",
        "learn = text_classifier_learner(dls_clas, AWD_LSTM, drop_mult=0.5, metrics=accuracy)\n",
        "learn = learn.load_encoder('finetuned') # load our finetuned Language Model as the encoder\n",
        "### Gradual unfreezing from the end inwards gives better results than a full unfreeze.\n",
        "learn.fit_one_cycle(1, 2e-2)\n",
        "learn.freeze_to(-2)\n",
        "learn.fit_one_cycle(1, slice(1e-2/(2.6**4),1e-2))\n",
        "learn.freeze_to(-3)\n",
        "learn.fit_one_cycle(1, slice(5e-3/(2.6**4),5e-3))\n",
        "learn.unfreeze()\n",
        "learn.fit_one_cycle(2, slice(1e-3/(2.6**4),1e-3))\n",
        "learn.save('model')\n",
        "learn.path = Path('./drive/MyDrive')\n",
        "learn.save('model')"
      ]
    }
  ],
  "metadata": {
    "accelerator": "GPU",
    "colab": {
      "provenance": []
    },
    "gpuClass": "standard",
    "kernelspec": {
      "display_name": "Python 3",
      "name": "python3"
    },
    "language_info": {
      "name": "python"
    }
  },
  "nbformat": 4,
  "nbformat_minor": 0
}
